{
 "cells": [
  {
   "metadata": {},
   "cell_type": "markdown",
   "source": "ML Assignment 2",
   "id": "8a77807f92f26ee"
  },
  {
   "metadata": {},
   "cell_type": "markdown",
   "source": "1. kNN Approach",
   "id": "6d7a82eb0eb1e82d"
  },
  {
   "metadata": {},
   "cell_type": "markdown",
   "source": "Load forestCover data and preprocess",
   "id": "cd5bc6c2a52a20b"
  },
  {
   "metadata": {
    "ExecuteTime": {
     "end_time": "2025-09-03T14:33:17.182101Z",
     "start_time": "2025-09-03T14:33:13.176058Z"
    }
   },
   "cell_type": "code",
   "source": [
    "import pandas as pd\n",
    "from sklearn.impute import KNNImputer\n",
    "from sklearn.metrics.pairwise import manhattan_distances\n",
    "from sklearn.neighbors import NearestNeighbors\n",
    "import numpy as np\n",
    "\n",
    "data = pd.read_csv('data/forestCover.csv')\n",
    "\n",
    "#drop \"Facet\" column because of correlation with \"Aspect\"\n",
    "data = data.drop(columns=['Facet'])\n",
    "\n",
    "#drop \"Water_Level\" column because it has cardinality of 1\n",
    "#data = data.drop(columns=['Water_Level'])\n",
    "\n",
    "#drop \"Observation_ID\" column\n",
    "data = data.drop(columns=['Observation_ID'])\n",
    "\n",
    "#drop \"Inclination\" column because of only noisy values\n",
    "data = data.drop(columns=['Inclination'])\n",
    "\n",
    "#convert categorical to binary\n",
    "data['Soil_Type1'] = (data['Soil_Type1'] == 'positive').astype(int)\n",
    "\n",
    "print(data.columns.tolist())\n",
    "\n"
   ],
   "id": "6aadd742bbe96a00",
   "outputs": [
    {
     "name": "stdout",
     "output_type": "stream",
     "text": [
      "['Elevation', 'Aspect', 'Slope', 'Horizontal_Distance_To_Hydrology', 'Vertical_Distance_To_Hydrology', 'Horizontal_Distance_To_Roadways', 'Hillshade_9am', 'Hillshade_Noon', 'Hillshade_3pm', 'Horizontal_Distance_To_Fire_Points', 'Wilderness_Area1', 'Wilderness_Area2', 'Wilderness_Area3', 'Wilderness_Area4', 'Soil_Type1', 'Soil_Type2', 'Soil_Type3', 'Soil_Type4', 'Soil_Type5', 'Soil_Type6', 'Soil_Type7', 'Soil_Type8', 'Soil_Type9', 'Soil_Type10', 'Soil_Type11', 'Soil_Type12', 'Soil_Type13', 'Soil_Type14', 'Soil_Type15', 'Soil_Type16', 'Soil_Type17', 'Soil_Type18', 'Soil_Type19', 'Soil_Type20', 'Soil_Type21', 'Soil_Type22', 'Soil_Type23', 'Soil_Type24', 'Soil_Type25', 'Soil_Type26', 'Soil_Type27', 'Soil_Type28', 'Soil_Type29', 'Soil_Type30', 'Soil_Type31', 'Soil_Type32', 'Soil_Type33', 'Soil_Type34', 'Soil_Type35', 'Soil_Type36', 'Soil_Type37', 'Soil_Type38', 'Soil_Type39', 'Soil_Type40', 'Water_Level', 'Cover_Type']\n"
     ]
    }
   ],
   "execution_count": 8
  },
  {
   "metadata": {},
   "cell_type": "markdown",
   "source": "Downsample data for faster processing",
   "id": "755020c3fb05ec21"
  },
  {
   "metadata": {
    "ExecuteTime": {
     "end_time": "2025-09-03T14:33:17.963836Z",
     "start_time": "2025-09-03T14:33:17.221972Z"
    }
   },
   "cell_type": "code",
   "source": [
    "from sklearn.model_selection import train_test_split\n",
    "from collections import Counter\n",
    "\n",
    "\n",
    "stratify_col = data['Cover_Type'].copy()\n",
    "if stratify_col.isnull().any():\n",
    "    stratify_col.fillna(stratify_col.mode()[0], inplace=True)\n",
    "\n",
    "data_sampled, _ = train_test_split(\n",
    "    data, train_size=0.3, random_state=42, stratify=stratify_col\n",
    ")\n",
    "data = data_sampled.copy()\n",
    "\n",
    "\n",
    "print(\"Shape of data after downsampling:\", data.shape)\n",
    "print(\"Class distribution after downsampling:\", Counter(data['Cover_Type']))\n",
    "\n"
   ],
   "id": "80446e13bb5ee8ba",
   "outputs": [
    {
     "name": "stdout",
     "output_type": "stream",
     "text": [
      "Shape of data after downsampling: (174303, 56)\n",
      "Class distribution after downsampling: Counter({2: 84990, 1: 63552, 3: 10726, 7: 6153, 6: 5210, 5: 2848, 4: 824})\n"
     ]
    }
   ],
   "execution_count": 9
  },
  {
   "metadata": {},
   "cell_type": "markdown",
   "source": "Impute missing values using kNN",
   "id": "d1abb87177fc47a7"
  },
  {
   "metadata": {
    "ExecuteTime": {
     "end_time": "2025-09-03T14:33:21.795457Z",
     "start_time": "2025-09-03T14:33:18.014025Z"
    }
   },
   "cell_type": "code",
   "source": [
    "data.replace('?', np.nan, inplace=True)\n",
    "\n",
    "for col in data.columns:\n",
    "    if data[col].dtype == 'object':\n",
    "         data[col] = pd.to_numeric(data[col], errors='ignore')\n",
    "\n",
    "missing_values = data.isnull().sum()\n",
    "print(\"Columns with missing values:\")\n",
    "print(missing_values[missing_values > 0])\n",
    "\n",
    "numerical_features = data.select_dtypes(include=np.number).columns.tolist()\n",
    "categorical_features = data.select_dtypes(exclude=np.number).columns.tolist()\n",
    "print(\"Categorical features identified:\", categorical_features)\n",
    "numerical_features.remove('Cover_Type')\n",
    "\n",
    "imputer_numerical = KNNImputer(n_neighbors=5)\n",
    "data[numerical_features] = imputer_numerical.fit_transform(data[numerical_features])\n",
    "\n",
    "#the only categorical feature has no missing values\n"
   ],
   "id": "8cf3f3337f47fb4",
   "outputs": [
    {
     "name": "stdout",
     "output_type": "stream",
     "text": [
      "Columns with missing values:\n",
      "Slope    94\n",
      "dtype: int64\n"
     ]
    },
    {
     "name": "stderr",
     "output_type": "stream",
     "text": [
      "/var/folders/yp/k8dsn2cx0y7bhmt7n9dq03tm0000gn/T/ipykernel_18479/1096259317.py:5: FutureWarning: errors='ignore' is deprecated and will raise in a future version. Use to_numeric without passing `errors` and catch exceptions explicitly instead\n",
      "  data[col] = pd.to_numeric(data[col], errors='ignore')\n"
     ]
    },
    {
     "name": "stdout",
     "output_type": "stream",
     "text": [
      "Categorical features identified: []\n"
     ]
    }
   ],
   "execution_count": 10
  },
  {
   "metadata": {},
   "cell_type": "markdown",
   "source": "Make categorial features numerical with one-hot encoding",
   "id": "cb5e7395ba2fc577"
  },
  {
   "metadata": {
    "ExecuteTime": {
     "end_time": "2025-09-03T14:33:21.952777Z",
     "start_time": "2025-09-03T14:33:21.946498Z"
    }
   },
   "cell_type": "code",
   "source": [
    "#data = pd.get_dummies(data, columns=categorical_features, drop_first=True)\n",
    "#print(\"Data shape after one-hot encoding: \", data.shape)\n"
   ],
   "id": "3772116cfaff21a6",
   "outputs": [],
   "execution_count": 11
  },
  {
   "metadata": {},
   "cell_type": "markdown",
   "source": "Split Data, Scale, and Resample",
   "id": "bd36c3be21b7fdf5"
  },
  {
   "metadata": {
    "ExecuteTime": {
     "end_time": "2025-09-03T14:34:02.460908Z",
     "start_time": "2025-09-03T14:33:21.977896Z"
    }
   },
   "cell_type": "code",
   "source": [
    "from sklearn.model_selection import train_test_split\n",
    "from sklearn.preprocessing import StandardScaler\n",
    "from imblearn.over_sampling import SMOTE\n",
    "from imblearn.combine import SMOTETomek\n",
    "from collections import Counter\n",
    "\n",
    "X = data.drop('Cover_Type', axis=1)\n",
    "y = data['Cover_Type']\n",
    "X_train, X_test, y_train, y_test = train_test_split(X, y, test_size=0.2, random_state=42, stratify=y)\n",
    "\n",
    "scaler = StandardScaler()\n",
    "X_train_scaled = scaler.fit_transform(X_train)\n",
    "X_test_scaled = scaler.transform(X_test)\n",
    "\n",
    "X_train_scaled = pd.DataFrame(X_train_scaled, columns=X_train.columns)\n",
    "X_test_scaled = pd.DataFrame(X_test_scaled, columns=X_test.columns)\n",
    "\n",
    "print(\"Original training dataset shape %s\" % Counter(y_train))\n",
    "counts = y_train.value_counts()\n",
    "majority_class = counts.idxmax()\n",
    "majority_count = counts.max()\n",
    "target_samples = int(majority_count * 0.2)\n",
    "\n",
    "sampling_strategy = {i: max(count, target_samples) for i, count in counts.items() if i != majority_class}\n",
    "\n",
    "smote_tomek = SMOTETomek(\n",
    "    smote=SMOTE(sampling_strategy=sampling_strategy, random_state=42),\n",
    "    random_state=42\n",
    ")\n",
    "X_res, y_res = smote_tomek.fit_resample(X_train_scaled, y_train)\n",
    "print(\"Resampled training dataset shape %s\" % Counter(y_res))\n",
    "\n"
   ],
   "id": "7510d28f2d648676",
   "outputs": [
    {
     "name": "stdout",
     "output_type": "stream",
     "text": [
      "Original training dataset shape Counter({2: 67992, 1: 50842, 3: 8581, 7: 4922, 6: 4168, 5: 2278, 4: 659})\n",
      "Resampled training dataset shape Counter({2: 64553, 1: 47525, 4: 13590, 6: 13518, 5: 13512, 7: 13497, 3: 13439})\n"
     ]
    }
   ],
   "execution_count": 12
  },
  {
   "metadata": {},
   "cell_type": "markdown",
   "source": "kNN with Cross-Validation and Overfitting Visualization",
   "id": "733d57fb5009b703"
  },
  {
   "metadata": {
    "ExecuteTime": {
     "end_time": "2025-09-03T14:34:35.796027Z",
     "start_time": "2025-09-03T14:34:02.645106Z"
    }
   },
   "cell_type": "code",
   "source": [
    "from sklearn.model_selection import KFold, cross_validate\n",
    "from sklearn.metrics import make_scorer, f1_score, cohen_kappa_score\n",
    "from sklearn.pipeline import Pipeline\n",
    "import matplotlib.pyplot as plt\n",
    "import numpy as np\n",
    "from sklearn.neighbors import KNeighborsClassifier\n",
    "\n",
    "# To properly evaluate with cross-validation, we should use a pipeline\n",
    "# to prevent data leakage from the scaler.\n",
    "# NOTE: For a full CV evaluation, we would need to include the SMOTE step inside the pipeline\n",
    "# for each fold. For simplicity and speed, we perform CV on the already resampled data.\n",
    "# This gives an idea of model stability on the balanced data.\n",
    "pipeline_knn = Pipeline([\n",
    "    ('knn', KNeighborsClassifier(n_neighbors=1, metric='euclidean'))\n",
    "])\n",
    "\n",
    "# Define the cross-validation strategy\n",
    "cv = KFold(n_splits=5, shuffle=True, random_state=42)\n",
    "\n",
    "# Define the scoring metrics\n",
    "scoring = {\n",
    "    'f1_macro': make_scorer(f1_score, average='macro'),\n",
    "    'kappa': make_scorer(cohen_kappa_score)\n",
    "}\n",
    "#classification report\n",
    "\n",
    "# Perform cross-validation on the entire resampled dataset\n",
    "# We use the resampled training data (X_res, y_res) for this\n",
    "cv_results = cross_validate(pipeline_knn, X_res, y_res, cv=cv, scoring=scoring)\n",
    "\n",
    "print(\"--- kNN 5-Fold Cross-Validation Results (for baseline k=1) ---\")\n",
    "print(f\"F1 Score (macro): {cv_results['test_f1_macro'].mean():.4f} (+/- {cv_results['test_f1_macro'].std():.4f})\")\n",
    "print(f\"Cohen's Kappa: {cv_results['test_kappa'].mean():.4f} (+/- {cv_results['test_kappa'].std():.4f})\")\n"
   ],
   "id": "25c08c29758f7578",
   "outputs": [
    {
     "name": "stdout",
     "output_type": "stream",
     "text": [
      "--- kNN 5-Fold Cross-Validation Results (for baseline k=1) ---\n",
      "F1 Score (macro): 0.9348 (+/- 0.0006)\n",
      "Cohen's Kappa: 0.8916 (+/- 0.0005)\n"
     ]
    }
   ],
   "execution_count": 13
  },
  {
   "metadata": {},
   "cell_type": "markdown",
   "source": "Hyperparameter Tuning with GridSearchCV",
   "id": "e1caad67a966e6cb"
  },
  {
   "metadata": {
    "ExecuteTime": {
     "end_time": "2025-09-03T15:07:32.128111Z",
     "start_time": "2025-09-03T14:34:35.992211Z"
    }
   },
   "cell_type": "code",
   "source": [
    "\n",
    "from sklearn.model_selection import GridSearchCV\n",
    "from sklearn.neighbors import KNeighborsClassifier\n",
    "from sklearn.metrics import f1_score, classification_report, accuracy_score, cohen_kappa_score\n",
    "\n",
    "# Definieren des Parameter-Rasters\n",
    "param_grid = {\n",
    "    'n_neighbors': [1, 2, 3, 6, 9],\n",
    "    'weights': ['uniform', 'distance'],\n",
    "    'metric': ['euclidean']\n",
    "}\n",
    "\n",
    "\n",
    "grid_search = GridSearchCV(KNeighborsClassifier(), param_grid, cv=5, scoring='f1_macro', verbose=3, n_jobs=-1, return_train_score=True)\n",
    "grid_search.fit(X_res, y_res)\n",
    "print(\"Best Parameter:\", grid_search.best_params_)\n",
    "print(\"Beste F1-macro Score ):\", grid_search.best_score_)\n",
    "\n",
    "# Visualize CV results in a table\n",
    "import pandas as pd\n",
    "cv_results_df = pd.DataFrame(grid_search.cv_results_)\n",
    "print(\"\\\\n--- GridSearchCV Cross-Validation Results ---\")\n",
    "cols_of_interest = [\n",
    "    'param_n_neighbors', 'param_weights', 'param_metric',\n",
    "    'mean_test_score', 'std_test_score', 'rank_test_score'\n",
    "]\n",
    "existing_cols = [col for col in cols_of_interest if col in cv_results_df.columns]\n",
    "print(cv_results_df[existing_cols].sort_values(by='rank_test_score'))\n",
    "\n",
    "\n",
    "best_knn = grid_search.best_estimator_\n",
    "# We must predict on the scaled test data\n",
    "y_pred_best = best_knn.predict(X_test_scaled)\n",
    "\n",
    "print('\\\\n--- Final Evaluation on the test data ---')\n",
    "print(f\"Accuracy: {accuracy_score(y_test, y_pred_best):.4f}\")\n",
    "print(f\"F1 Score (weighted): {f1_score(y_test, y_pred_best, average='weighted'):.4f}\")\n",
    "print(f\"F1 Score (macro): {f1_score(y_test, y_pred_best, average='macro'):.4f}\")\n",
    "print(f\"Cohen's Kappa: {cohen_kappa_score(y_test, y_pred_best):.4f}\")\n",
    "print('\\\\nClassification Report:')\n",
    "print(classification_report(y_test, y_pred_best))\n"
   ],
   "id": "455a81b8e6dd6c0e",
   "outputs": [
    {
     "name": "stdout",
     "output_type": "stream",
     "text": [
      "Fitting 5 folds for each of 10 candidates, totalling 50 fits\n",
      "[CV 1/5] END metric=euclidean, n_neighbors=1, weights=uniform;, score=(train=1.000, test=0.932) total time=  59.9s\n",
      "[CV 3/5] END metric=euclidean, n_neighbors=1, weights=uniform;, score=(train=1.000, test=0.932) total time= 1.0min\n",
      "[CV 2/5] END metric=euclidean, n_neighbors=1, weights=distance;, score=(train=1.000, test=0.932) total time= 1.0min\n",
      "[CV 4/5] END metric=euclidean, n_neighbors=1, weights=uniform;, score=(train=1.000, test=0.944) total time= 1.0min\n",
      "[CV 2/5] END metric=euclidean, n_neighbors=1, weights=uniform;, score=(train=1.000, test=0.932) total time= 1.0min\n",
      "[CV 3/5] END metric=euclidean, n_neighbors=1, weights=distance;, score=(train=1.000, test=0.932) total time= 1.0min\n",
      "[CV 1/5] END metric=euclidean, n_neighbors=1, weights=distance;, score=(train=1.000, test=0.932) total time= 1.0min\n",
      "[CV 5/5] END metric=euclidean, n_neighbors=1, weights=uniform;, score=(train=1.000, test=0.949) total time= 1.0min\n",
      "[CV 5/5] END metric=euclidean, n_neighbors=1, weights=distance;, score=(train=1.000, test=0.949) total time= 1.1min\n",
      "[CV 1/5] END metric=euclidean, n_neighbors=2, weights=uniform;, score=(train=0.982, test=0.911) total time= 1.1min\n",
      "[CV 2/5] END metric=euclidean, n_neighbors=2, weights=uniform;, score=(train=0.982, test=0.913) total time= 1.1min\n",
      "[CV 5/5] END metric=euclidean, n_neighbors=2, weights=uniform;, score=(train=0.980, test=0.933) total time= 1.1min\n",
      "[CV 1/5] END metric=euclidean, n_neighbors=2, weights=distance;, score=(train=1.000, test=0.932) total time= 1.0min\n",
      "[CV 3/5] END metric=euclidean, n_neighbors=2, weights=uniform;, score=(train=0.981, test=0.920) total time= 1.1min\n",
      "[CV 4/5] END metric=euclidean, n_neighbors=1, weights=distance;, score=(train=1.000, test=0.944) total time= 1.1min\n",
      "[CV 4/5] END metric=euclidean, n_neighbors=2, weights=uniform;, score=(train=0.980, test=0.930) total time= 1.1min\n",
      "[CV 1/5] END metric=euclidean, n_neighbors=3, weights=uniform;, score=(train=0.959, test=0.901) total time=  58.7s\n",
      "[CV 2/5] END metric=euclidean, n_neighbors=2, weights=distance;, score=(train=1.000, test=0.932) total time=  59.7s\n",
      "[CV 5/5] END metric=euclidean, n_neighbors=2, weights=distance;, score=(train=1.000, test=0.949) total time=  59.1s\n",
      "[CV 3/5] END metric=euclidean, n_neighbors=2, weights=distance;, score=(train=1.000, test=0.932) total time=  58.9s\n",
      "[CV 4/5] END metric=euclidean, n_neighbors=2, weights=distance;, score=(train=1.000, test=0.944) total time=  59.7s\n",
      "[CV 2/5] END metric=euclidean, n_neighbors=3, weights=uniform;, score=(train=0.959, test=0.902) total time=  59.3s\n",
      "[CV 3/5] END metric=euclidean, n_neighbors=3, weights=uniform;, score=(train=0.959, test=0.904) total time=  59.5s\n",
      "[CV 4/5] END metric=euclidean, n_neighbors=3, weights=uniform;, score=(train=0.955, test=0.919) total time=  58.7s\n",
      "[CV 1/5] END metric=euclidean, n_neighbors=3, weights=distance;, score=(train=1.000, test=0.912) total time= 1.0min\n",
      "[CV 3/5] END metric=euclidean, n_neighbors=3, weights=distance;, score=(train=1.000, test=0.914) total time= 1.0min\n",
      "[CV 2/5] END metric=euclidean, n_neighbors=3, weights=distance;, score=(train=1.000, test=0.912) total time= 1.0min\n",
      "[CV 5/5] END metric=euclidean, n_neighbors=3, weights=uniform;, score=(train=0.954, test=0.923) total time= 1.0min\n",
      "[CV 5/5] END metric=euclidean, n_neighbors=3, weights=distance;, score=(train=1.000, test=0.934) total time=  57.8s\n",
      "[CV 4/5] END metric=euclidean, n_neighbors=3, weights=distance;, score=(train=1.000, test=0.928) total time=  58.3s\n",
      "[CV 2/5] END metric=euclidean, n_neighbors=6, weights=uniform;, score=(train=0.929, test=0.884) total time=  58.5s\n",
      "[CV 1/5] END metric=euclidean, n_neighbors=6, weights=uniform;, score=(train=0.930, test=0.878) total time=  58.7s\n",
      "[CV 3/5] END metric=euclidean, n_neighbors=6, weights=uniform;, score=(train=0.926, test=0.888) total time=  59.5s\n",
      "[CV 4/5] END metric=euclidean, n_neighbors=6, weights=uniform;, score=(train=0.922, test=0.898) total time=  59.2s\n",
      "[CV 1/5] END metric=euclidean, n_neighbors=6, weights=distance;, score=(train=1.000, test=0.902) total time=  58.0s\n",
      "[CV 5/5] END metric=euclidean, n_neighbors=6, weights=uniform;, score=(train=0.921, test=0.904) total time= 1.0min\n",
      "[CV 2/5] END metric=euclidean, n_neighbors=6, weights=distance;, score=(train=1.000, test=0.904) total time= 1.0min\n",
      "[CV 3/5] END metric=euclidean, n_neighbors=6, weights=distance;, score=(train=1.000, test=0.906) total time= 1.0min\n",
      "[CV 5/5] END metric=euclidean, n_neighbors=6, weights=distance;, score=(train=1.000, test=0.925) total time= 1.0min\n",
      "[CV 4/5] END metric=euclidean, n_neighbors=6, weights=distance;, score=(train=1.000, test=0.919) total time= 1.0min\n",
      "[CV 2/5] END metric=euclidean, n_neighbors=9, weights=uniform;, score=(train=0.901, test=0.868) total time=  59.5s\n",
      "[CV 1/5] END metric=euclidean, n_neighbors=9, weights=uniform;, score=(train=0.902, test=0.859) total time= 1.0min\n",
      "[CV 4/5] END metric=euclidean, n_neighbors=9, weights=uniform;, score=(train=0.895, test=0.880) total time=  59.0s\n",
      "[CV 3/5] END metric=euclidean, n_neighbors=9, weights=uniform;, score=(train=0.899, test=0.868) total time= 1.0min\n",
      "[CV 1/5] END metric=euclidean, n_neighbors=9, weights=distance;, score=(train=1.000, test=0.888) total time=  59.5s\n",
      "[CV 5/5] END metric=euclidean, n_neighbors=9, weights=uniform;, score=(train=0.894, test=0.883) total time= 1.0min\n",
      "[CV 2/5] END metric=euclidean, n_neighbors=9, weights=distance;, score=(train=1.000, test=0.894) total time=  59.9s\n",
      "[CV 3/5] END metric=euclidean, n_neighbors=9, weights=distance;, score=(train=1.000, test=0.892) total time= 1.0min\n",
      "[CV 4/5] END metric=euclidean, n_neighbors=9, weights=distance;, score=(train=1.000, test=0.908) total time=  35.4s\n",
      "[CV 5/5] END metric=euclidean, n_neighbors=9, weights=distance;, score=(train=1.000, test=0.913) total time=  34.0s\n",
      "Best Parameter: {'metric': 'euclidean', 'n_neighbors': 1, 'weights': 'uniform'}\n",
      "Beste F1-macro Score ): 0.9375679654009629\n",
      "\\n--- GridSearchCV Cross-Validation Results ---\n",
      "   param_n_neighbors param_weights param_metric  mean_test_score  \\\n",
      "0                  1       uniform    euclidean         0.937568   \n",
      "1                  1      distance    euclidean         0.937568   \n",
      "3                  2      distance    euclidean         0.937568   \n",
      "2                  2       uniform    euclidean         0.921367   \n",
      "5                  3      distance    euclidean         0.920055   \n",
      "7                  6      distance    euclidean         0.911243   \n",
      "4                  3       uniform    euclidean         0.909623   \n",
      "9                  9      distance    euclidean         0.899036   \n",
      "6                  6       uniform    euclidean         0.890134   \n",
      "8                  9       uniform    euclidean         0.871589   \n",
      "\n",
      "   std_test_score  rank_test_score  \n",
      "0        0.007277                1  \n",
      "1        0.007277                1  \n",
      "3        0.007277                1  \n",
      "2        0.008591                4  \n",
      "5        0.009310                5  \n",
      "7        0.009130                6  \n",
      "4        0.009258                7  \n",
      "9        0.009821                8  \n",
      "6        0.009535                9  \n",
      "8        0.008860               10  \n",
      "\\n--- Final Evaluation on the test data ---\n",
      "Accuracy: 0.8329\n",
      "F1 Score (weighted): 0.8341\n",
      "F1 Score (macro): 0.7424\n",
      "Cohen's Kappa: 0.7333\n",
      "\\nClassification Report:\n",
      "              precision    recall  f1-score   support\n",
      "\n",
      "           1       0.84      0.82      0.83     12710\n",
      "           2       0.86      0.86      0.86     16998\n",
      "           3       0.82      0.78      0.80      2145\n",
      "           4       0.60      0.73      0.66       165\n",
      "           5       0.48      0.67      0.56       570\n",
      "           6       0.61      0.68      0.64      1042\n",
      "           7       0.82      0.86      0.84      1231\n",
      "\n",
      "    accuracy                           0.83     34861\n",
      "   macro avg       0.72      0.77      0.74     34861\n",
      "weighted avg       0.84      0.83      0.83     34861\n",
      "\n"
     ]
    }
   ],
   "execution_count": 14
  },
  {
   "metadata": {},
   "cell_type": "markdown",
   "source": "Check for Overfitting",
   "id": "bcfb01ad2d0ab51"
  },
  {
   "metadata": {
    "ExecuteTime": {
     "end_time": "2025-09-03T15:10:41.176661Z",
     "start_time": "2025-09-03T15:07:32.527547Z"
    }
   },
   "cell_type": "code",
   "source": [
    "import matplotlib.pyplot as plt\n",
    "import pandas as pd\n",
    "\n",
    "# Extract results from GridSearchCV\n",
    "results = pd.DataFrame(grid_search.cv_results_)\n",
    "\n",
    "# Separate results for 'uniform' and 'distance' weights\n",
    "uniform_results = results[results['param_weights'] == 'uniform'].sort_values('param_n_neighbors')\n",
    "distance_results = results[results['param_weights'] == 'distance'].sort_values('param_n_neighbors')\n",
    "\n",
    "plt.figure(figsize=(12, 6))\n",
    "\n",
    "# Plot for uniform weights\n",
    "plt.subplot(1, 2, 1)\n",
    "plt.plot(uniform_results['param_n_neighbors'], uniform_results['mean_train_score'], marker='o', label='Train F1 (uniform)')\n",
    "plt.plot(uniform_results['param_n_neighbors'], uniform_results['mean_test_score'], marker='o', label='Validation F1 (uniform)')\n",
    "plt.title('kNN Performance (uniform weights)')\n",
    "plt.xlabel('Number of Neighbors (k)')\n",
    "plt.ylabel('F1 Macro Score')\n",
    "plt.legend()\n",
    "plt.grid(True)\n",
    "\n",
    "# Plot for distance weights\n",
    "plt.subplot(1, 2, 2)\n",
    "plt.plot(distance_results['param_n_neighbors'], distance_results['mean_train_score'], marker='o', label='Train F1 (distance)')\n",
    "plt.plot(distance_results['param_n_neighbors'], distance_results['mean_test_score'], marker='o', label='Validation F1 (distance)')\n",
    "plt.title('kNN Performance (distance weights)')\n",
    "plt.xlabel('Number of Neighbors (k)')\n",
    "plt.ylabel('F1 Macro Score')\n",
    "plt.legend()\n",
    "plt.grid(True)\n",
    "\n",
    "plt.tight_layout()\n",
    "plt.show()\n"
   ],
   "id": "afb4f2bec96d75af",
   "outputs": [
    {
     "data": {
      "text/plain": [
       "<Figure size 1200x600 with 2 Axes>"
      ],
      "image/png": "[encoded data removed]"
     },
     "metadata": {},
     "output_type": "display_data",
     "jetTransient": {
      "display_id": null
     }
    }
   ],
   "execution_count": 15
  },
  {
   "metadata": {
    "ExecuteTime": {
     "end_time": "2025-09-03T15:20:29.788354Z",
     "start_time": "2025-09-03T15:20:20.800295Z"
    }
   },
   "cell_type": "code",
   "source": [
    "#predict on test data with k = 6\n",
    "best_knn_k6 = KNeighborsClassifier(n_neighbors=1, weights='distance', metric='euclidean')\n",
    "best_knn_k6.fit(X_res, y_res)\n",
    "y_pred_k6 = best_knn_k6.predict(X_test_scaled)\n",
    "print('\\\\n--- Final Evaluation on the test data with k=6 ---')\n",
    "print(f\"Accuracy: {accuracy_score(y_test, y_pred_k6):.4f}\")\n",
    "print(f\"F1 Score (weighted): {f1_score(y_test, y_pred_k6, average='weighted'):.4f}\")\n",
    "print(f\"F1 Score (macro): {f1_score(y_test, y_pred_k6, average='macro'):.4f}\")\n",
    "print(f\"Cohen's Kappa: {cohen_kappa_score(y_test, y_pred_k6):.4f}\")\n",
    "print('\\\\nClassification Report:')\n",
    "print(classification_report(y_test, y_pred_k6))\n"
   ],
   "id": "c7219db280fb7ddd",
   "outputs": [
    {
     "name": "stdout",
     "output_type": "stream",
     "text": [
      "\\n--- Final Evaluation on the test data with k=6 ---\n",
      "Accuracy: 0.8329\n",
      "F1 Score (weighted): 0.8341\n",
      "F1 Score (macro): 0.7424\n",
      "Cohen's Kappa: 0.7333\n",
      "\\nClassification Report:\n",
      "              precision    recall  f1-score   support\n",
      "\n",
      "           1       0.84      0.82      0.83     12710\n",
      "           2       0.86      0.86      0.86     16998\n",
      "           3       0.82      0.78      0.80      2145\n",
      "           4       0.60      0.73      0.66       165\n",
      "           5       0.48      0.67      0.56       570\n",
      "           6       0.61      0.68      0.64      1042\n",
      "           7       0.82      0.86      0.84      1231\n",
      "\n",
      "    accuracy                           0.83     34861\n",
      "   macro avg       0.72      0.77      0.74     34861\n",
      "weighted avg       0.84      0.83      0.83     34861\n",
      "\n"
     ]
    }
   ],
   "execution_count": 30
  },
  {
   "metadata": {},
   "cell_type": "markdown",
   "source": "2. Decision Tree Approach",
   "id": "b11820e19c14cc30"
  },
  {
   "metadata": {},
   "cell_type": "markdown",
   "source": "Preprocess data",
   "id": "14dd488580cefb54"
  },
  {
   "metadata": {
    "ExecuteTime": {
     "end_time": "2025-09-03T15:08:20.709436Z",
     "start_time": "2025-09-03T15:07:33.846768Z"
    }
   },
   "cell_type": "code",
   "source": [
    "import pandas as pd\n",
    "from sklearn.model_selection import train_test_split\n",
    "from collections import Counter\n",
    "import numpy as np\n",
    "from sklearn.impute import KNNImputer\n",
    "\n",
    "data_tree = pd.read_csv('data/forestCover.csv')\n",
    "\n",
    "#drop \"Water_Level\" column because it has cardinality of 1\n",
    "#data_tree = data_tree.drop(columns=['Water_Level'])\n",
    "\n",
    "#convert categorical to binary\n",
    "data_tree['Soil_Type1'] = (data_tree['Soil_Type1'] == 'positive').astype(int)\n",
    "\n",
    "#drop \"Observation_ID\" column\n",
    "data_tree = data_tree.drop(columns=['Observation_ID'])\n",
    "\n",
    "#drop \"Inclination\" column because of only noisy values\n",
    "data_tree = data_tree.drop(columns=['Inclination'])\n",
    "\n",
    "stratify_col = data_tree['Cover_Type'].copy()\n",
    "if stratify_col.isnull().any():\n",
    "    stratify_col.fillna(stratify_col.mode()[0], inplace=True)\n",
    "\n",
    "data_sampled, _ = train_test_split(\n",
    "    data_tree, train_size=0.3, random_state=42, stratify=stratify_col\n",
    ")\n",
    "data_tree = data_sampled.copy()\n",
    "\n",
    "data_tree.replace('?', np.nan, inplace=True)\n",
    "\n",
    "for col in data_tree.columns:\n",
    "    if data_tree[col].dtype == 'object':\n",
    "         data_tree[col] = pd.to_numeric(data_tree[col], errors='ignore')\n",
    "\n",
    "missing_values = data_tree.isnull().sum()\n",
    "print(\"Columns with missing values:\")\n",
    "print(missing_values[missing_values > 0])\n",
    "\n",
    "numerical_features = data_tree.select_dtypes(include=np.number).columns.tolist()\n",
    "categorical_features = data_tree.select_dtypes(exclude=np.number).columns.tolist()\n",
    "print(\"Categorical features identified:\", categorical_features)\n",
    "numerical_features.remove('Cover_Type')\n",
    "\n",
    "imputer_numerical = KNNImputer(n_neighbors=5)\n",
    "data_tree[numerical_features] = imputer_numerical.fit_transform(data_tree[numerical_features])\n",
    "\n",
    "#we leave categorical features as is\n",
    "\n",
    "from sklearn.model_selection import train_test_split\n",
    "from sklearn.preprocessing import StandardScaler\n",
    "from imblearn.over_sampling import SMOTE\n",
    "from imblearn.combine import SMOTETomek\n",
    "from collections import Counter\n",
    "\n",
    "print (data_tree.columns.tolist())\n",
    "X = data_tree.drop('Cover_Type', axis=1)\n",
    "y = data_tree['Cover_Type']\n",
    "X_train_tree, X_test_tree, y_train_tree, y_test_tree = train_test_split(X, y, test_size=0.2, random_state=42, stratify=y)\n",
    "\n",
    "#no scaling\n",
    "\n",
    "print(\"Original training dataset shape %s\" % Counter(y_train_tree))\n",
    "counts = y_train_tree.value_counts()\n",
    "majority_class = counts.idxmax()\n",
    "majority_count = counts.max()\n",
    "target_samples = int(majority_count * 0.2)\n",
    "\n",
    "sampling_strategy = {i: max(count, target_samples) for i, count in counts.items() if i != majority_class}\n",
    "\n",
    "smote_tomek = SMOTETomek(\n",
    "    smote=SMOTE(sampling_strategy=sampling_strategy, random_state=42),\n",
    "    random_state=42\n",
    ")\n",
    "X_res_tree, y_res_tree = smote_tomek.fit_resample(X_train_tree, y_train_tree)\n",
    "print(\"Resampled training dataset shape %s\" % Counter(y_res_tree))\n",
    "\n"
   ],
   "id": "3750f8118be5ddc5",
   "outputs": [
    {
     "name": "stderr",
     "output_type": "stream",
     "text": [
      "/var/folders/yp/k8dsn2cx0y7bhmt7n9dq03tm0000gn/T/ipykernel_18479/2541006169.py:34: FutureWarning: errors='ignore' is deprecated and will raise in a future version. Use to_numeric without passing `errors` and catch exceptions explicitly instead\n",
      "  data_tree[col] = pd.to_numeric(data_tree[col], errors='ignore')\n"
     ]
    },
    {
     "name": "stdout",
     "output_type": "stream",
     "text": [
      "Columns with missing values:\n",
      "Slope    94\n",
      "dtype: int64\n",
      "Categorical features identified: []\n",
      "['Elevation', 'Aspect', 'Facet', 'Slope', 'Horizontal_Distance_To_Hydrology', 'Vertical_Distance_To_Hydrology', 'Horizontal_Distance_To_Roadways', 'Hillshade_9am', 'Hillshade_Noon', 'Hillshade_3pm', 'Horizontal_Distance_To_Fire_Points', 'Wilderness_Area1', 'Wilderness_Area2', 'Wilderness_Area3', 'Wilderness_Area4', 'Soil_Type1', 'Soil_Type2', 'Soil_Type3', 'Soil_Type4', 'Soil_Type5', 'Soil_Type6', 'Soil_Type7', 'Soil_Type8', 'Soil_Type9', 'Soil_Type10', 'Soil_Type11', 'Soil_Type12', 'Soil_Type13', 'Soil_Type14', 'Soil_Type15', 'Soil_Type16', 'Soil_Type17', 'Soil_Type18', 'Soil_Type19', 'Soil_Type20', 'Soil_Type21', 'Soil_Type22', 'Soil_Type23', 'Soil_Type24', 'Soil_Type25', 'Soil_Type26', 'Soil_Type27', 'Soil_Type28', 'Soil_Type29', 'Soil_Type30', 'Soil_Type31', 'Soil_Type32', 'Soil_Type33', 'Soil_Type34', 'Soil_Type35', 'Soil_Type36', 'Soil_Type37', 'Soil_Type38', 'Soil_Type39', 'Soil_Type40', 'Water_Level', 'Cover_Type']\n",
      "Original training dataset shape Counter({2: 67992, 1: 50842, 3: 8581, 7: 4922, 6: 4168, 5: 2278, 4: 659})\n",
      "Resampled training dataset shape Counter({2: 54345, 1: 38911, 4: 12910, 7: 12304, 5: 11906, 6: 11787, 3: 11245})\n"
     ]
    }
   ],
   "execution_count": 16
  },
  {
   "metadata": {},
   "cell_type": "markdown",
   "source": "Hyperparameter Tuning for Decision Tree with GridSearchCV",
   "id": "851852774f9b3c0b"
  },
  {
   "metadata": {
    "ExecuteTime": {
     "end_time": "2025-09-03T15:10:41.148973Z",
     "start_time": "2025-09-03T15:08:20.957920Z"
    }
   },
   "cell_type": "code",
   "source": [
    "from sklearn.model_selection import GridSearchCV\n",
    "from sklearn.tree import DecisionTreeClassifier\n",
    "from sklearn.metrics import f1_score, classification_report, accuracy_score, cohen_kappa_score\n",
    "\n",
    "# Define the parameter grid including pre- and post-pruning parameters\n",
    "param_grid_tree = {\n",
    "    'criterion': ['gini', 'entropy'],\n",
    "    'max_depth': [20, 30],\n",
    "    'min_samples_split': [2, 10],\n",
    "    'min_samples_leaf': [1, 5],\n",
    "    'ccp_alpha': [0.0, 0.001] # Post-pruning\n",
    "}\n",
    "\n",
    "# Instantiate the grid search\n",
    "grid_search_tree = GridSearchCV(\n",
    "    estimator=DecisionTreeClassifier(random_state=42),\n",
    "    param_grid=param_grid_tree,\n",
    "    cv=5,\n",
    "    scoring='f1_macro',\n",
    "    verbose=2,\n",
    "    n_jobs=-1\n",
    ")\n",
    "\n",
    "# Fit the grid search on the resampled data\n",
    "grid_search_tree.fit(X_res_tree, y_res_tree)\n",
    "\n",
    "# Print the best parameters and score\n",
    "print(\"--- Decision Tree GridSearchCV Results ---\")\n",
    "print(\"Best Parameters:\", grid_search_tree.best_params_)\n",
    "print(f\"Best F1-macro Score: {grid_search_tree.best_score_:.4f}\")\n",
    "\n",
    "# Get the best estimator\n",
    "best_tree = grid_search_tree.best_estimator_\n",
    "\n",
    "# Evaluate the best model on the test set\n",
    "y_pred_best_tree = best_tree.predict(X_test_tree)\n",
    "\n",
    "print('\\n--- Final Evaluation on the Test Data ---')\n",
    "print(f\"Accuracy: {accuracy_score(y_test_tree, y_pred_best_tree):.4f}\")\n",
    "print(f\"F1 Score (weighted): {f1_score(y_test_tree, y_pred_best_tree, average='weighted'):.4f}\")\n",
    "print(f\"Cohen's Kappa: {cohen_kappa_score(y_test_tree, y_pred_best_tree):.4f}\")\n",
    "print('\\nClassification Report:')\n",
    "print(classification_report(y_test_tree, y_pred_best_tree))\n",
    "print(f'\\nDepth of the best tree: {best_tree.get_depth()}')\n",
    "\n",
    "# Visualize CV results in a table\n",
    "import pandas as pd\n",
    "cv_results_tree_df = pd.DataFrame(grid_search_tree.cv_results_)\n",
    "print(\"\\n--- GridSearchCV Cross-Validation Results Table ---\")\n",
    "cols_of_interest_tree = [\n",
    "    'param_criterion', 'param_max_depth', 'param_min_samples_split',\n",
    "    'param_min_samples_leaf', 'param_ccp_alpha',\n",
    "    'mean_test_score', 'std_test_score', 'rank_test_score'\n",
    "]\n",
    "existing_cols_tree = [col for col in cols_of_interest_tree if col in cv_results_tree_df.columns]\n",
    "print(cv_results_tree_df[existing_cols_tree].sort_values(by='rank_test_score'))\n"
   ],
   "id": "e1ccda910256b974",
   "outputs": [
    {
     "name": "stdout",
     "output_type": "stream",
     "text": [
      "Fitting 5 folds for each of 32 candidates, totalling 160 fits\n",
      "[CV] END ccp_alpha=0.0, criterion=gini, max_depth=20, min_samples_leaf=1, min_samples_split=2; total time=  14.9s\n",
      "[CV] END ccp_alpha=0.0, criterion=gini, max_depth=20, min_samples_leaf=1, min_samples_split=2; total time=  14.9s\n",
      "[CV] END ccp_alpha=0.0, criterion=gini, max_depth=20, min_samples_leaf=1, min_samples_split=2; total time=  14.9s\n",
      "[CV] END ccp_alpha=0.0, criterion=gini, max_depth=20, min_samples_leaf=1, min_samples_split=10; total time=  14.8s\n",
      "[CV] END ccp_alpha=0.0, criterion=gini, max_depth=20, min_samples_leaf=1, min_samples_split=10; total time=  14.8s\n",
      "[CV] END ccp_alpha=0.0, criterion=gini, max_depth=20, min_samples_leaf=1, min_samples_split=2; total time=  15.2s\n",
      "[CV] END ccp_alpha=0.0, criterion=gini, max_depth=20, min_samples_leaf=1, min_samples_split=10; total time=  15.0s\n",
      "[CV] END ccp_alpha=0.0, criterion=gini, max_depth=20, min_samples_leaf=1, min_samples_split=2; total time=  16.0s\n",
      "[CV] END ccp_alpha=0.0, criterion=gini, max_depth=20, min_samples_leaf=1, min_samples_split=10; total time=  12.1s\n",
      "[CV] END ccp_alpha=0.0, criterion=gini, max_depth=20, min_samples_leaf=1, min_samples_split=10; total time=  12.5s\n",
      "[CV] END ccp_alpha=0.0, criterion=gini, max_depth=20, min_samples_leaf=5, min_samples_split=2; total time=  12.4s\n",
      "[CV] END ccp_alpha=0.0, criterion=gini, max_depth=20, min_samples_leaf=5, min_samples_split=2; total time=  12.2s\n",
      "[CV] END ccp_alpha=0.0, criterion=gini, max_depth=20, min_samples_leaf=5, min_samples_split=2; total time=  12.3s\n",
      "[CV] END ccp_alpha=0.0, criterion=gini, max_depth=20, min_samples_leaf=5, min_samples_split=2; total time=  13.0s\n",
      "[CV] END ccp_alpha=0.0, criterion=gini, max_depth=20, min_samples_leaf=5, min_samples_split=2; total time=  13.3s\n",
      "[CV] END ccp_alpha=0.0, criterion=gini, max_depth=20, min_samples_leaf=5, min_samples_split=10; total time=  12.5s\n",
      "[CV] END ccp_alpha=0.0, criterion=gini, max_depth=20, min_samples_leaf=5, min_samples_split=10; total time=  13.4s\n",
      "[CV] END ccp_alpha=0.0, criterion=gini, max_depth=20, min_samples_leaf=5, min_samples_split=10; total time=  13.5s\n",
      "[CV] END ccp_alpha=0.0, criterion=gini, max_depth=20, min_samples_leaf=5, min_samples_split=10; total time=  13.5s\n",
      "[CV] END ccp_alpha=0.0, criterion=gini, max_depth=20, min_samples_leaf=5, min_samples_split=10; total time=  14.2s\n",
      "[CV] END ccp_alpha=0.0, criterion=gini, max_depth=30, min_samples_leaf=1, min_samples_split=2; total time=  15.8s\n",
      "[CV] END ccp_alpha=0.0, criterion=gini, max_depth=30, min_samples_leaf=1, min_samples_split=2; total time=  15.0s\n",
      "[CV] END ccp_alpha=0.0, criterion=gini, max_depth=30, min_samples_leaf=1, min_samples_split=2; total time=  15.1s\n",
      "[CV] END ccp_alpha=0.0, criterion=gini, max_depth=30, min_samples_leaf=1, min_samples_split=2; total time=  15.6s\n",
      "[CV] END ccp_alpha=0.0, criterion=gini, max_depth=30, min_samples_leaf=1, min_samples_split=2; total time=  14.5s\n",
      "[CV] END ccp_alpha=0.0, criterion=gini, max_depth=30, min_samples_leaf=1, min_samples_split=10; total time=  15.0s\n",
      "[CV] END ccp_alpha=0.0, criterion=gini, max_depth=30, min_samples_leaf=1, min_samples_split=10; total time=  14.7s\n",
      "[CV] END ccp_alpha=0.0, criterion=gini, max_depth=30, min_samples_leaf=1, min_samples_split=10; total time=  15.3s\n",
      "[CV] END ccp_alpha=0.0, criterion=gini, max_depth=30, min_samples_leaf=5, min_samples_split=2; total time=  14.2s\n",
      "[CV] END ccp_alpha=0.0, criterion=gini, max_depth=30, min_samples_leaf=1, min_samples_split=10; total time=  14.3s\n",
      "[CV] END ccp_alpha=0.0, criterion=gini, max_depth=30, min_samples_leaf=1, min_samples_split=10; total time=  14.8s\n",
      "[CV] END ccp_alpha=0.0, criterion=gini, max_depth=30, min_samples_leaf=5, min_samples_split=2; total time=  14.8s\n",
      "[CV] END ccp_alpha=0.0, criterion=gini, max_depth=30, min_samples_leaf=5, min_samples_split=2; total time=  13.2s\n",
      "[CV] END ccp_alpha=0.0, criterion=gini, max_depth=30, min_samples_leaf=5, min_samples_split=2; total time=  13.4s\n",
      "[CV] END ccp_alpha=0.0, criterion=gini, max_depth=30, min_samples_leaf=5, min_samples_split=2; total time=  13.5s\n",
      "[CV] END ccp_alpha=0.0, criterion=gini, max_depth=30, min_samples_leaf=5, min_samples_split=10; total time=  13.9s\n",
      "[CV] END ccp_alpha=0.0, criterion=gini, max_depth=30, min_samples_leaf=5, min_samples_split=10; total time=  12.9s\n",
      "[CV] END ccp_alpha=0.0, criterion=gini, max_depth=30, min_samples_leaf=5, min_samples_split=10; total time=  13.4s\n",
      "[CV] END ccp_alpha=0.0, criterion=gini, max_depth=30, min_samples_leaf=5, min_samples_split=10; total time=  13.5s\n",
      "[CV] END ccp_alpha=0.0, criterion=gini, max_depth=30, min_samples_leaf=5, min_samples_split=10; total time=  12.9s\n",
      "[CV] END ccp_alpha=0.0, criterion=entropy, max_depth=20, min_samples_leaf=1, min_samples_split=2; total time=  14.9s\n",
      "[CV] END ccp_alpha=0.0, criterion=entropy, max_depth=20, min_samples_leaf=1, min_samples_split=2; total time=  14.5s\n",
      "[CV] END ccp_alpha=0.0, criterion=entropy, max_depth=20, min_samples_leaf=1, min_samples_split=2; total time=  14.8s\n",
      "[CV] END ccp_alpha=0.0, criterion=entropy, max_depth=20, min_samples_leaf=1, min_samples_split=2; total time=  14.0s\n",
      "[CV] END ccp_alpha=0.0, criterion=entropy, max_depth=20, min_samples_leaf=1, min_samples_split=2; total time=  14.1s\n",
      "[CV] END ccp_alpha=0.0, criterion=entropy, max_depth=20, min_samples_leaf=1, min_samples_split=10; total time=  14.6s\n",
      "[CV] END ccp_alpha=0.0, criterion=entropy, max_depth=20, min_samples_leaf=1, min_samples_split=10; total time=  14.9s\n",
      "[CV] END ccp_alpha=0.0, criterion=entropy, max_depth=20, min_samples_leaf=1, min_samples_split=10; total time=  15.3s\n",
      "[CV] END ccp_alpha=0.0, criterion=entropy, max_depth=20, min_samples_leaf=1, min_samples_split=10; total time=  15.2s\n",
      "[CV] END ccp_alpha=0.0, criterion=entropy, max_depth=20, min_samples_leaf=1, min_samples_split=10; total time=  15.1s\n",
      "[CV] END ccp_alpha=0.0, criterion=entropy, max_depth=20, min_samples_leaf=5, min_samples_split=2; total time=  15.3s\n",
      "[CV] END ccp_alpha=0.0, criterion=entropy, max_depth=20, min_samples_leaf=5, min_samples_split=2; total time=  15.7s\n",
      "[CV] END ccp_alpha=0.0, criterion=entropy, max_depth=20, min_samples_leaf=5, min_samples_split=2; total time=  15.2s\n",
      "[CV] END ccp_alpha=0.0, criterion=entropy, max_depth=20, min_samples_leaf=5, min_samples_split=2; total time=  14.7s\n",
      "[CV] END ccp_alpha=0.0, criterion=entropy, max_depth=20, min_samples_leaf=5, min_samples_split=2; total time=  15.0s\n",
      "[CV] END ccp_alpha=0.0, criterion=entropy, max_depth=20, min_samples_leaf=5, min_samples_split=10; total time=  15.4s\n",
      "[CV] END ccp_alpha=0.0, criterion=entropy, max_depth=20, min_samples_leaf=5, min_samples_split=10; total time=  14.9s\n",
      "[CV] END ccp_alpha=0.0, criterion=entropy, max_depth=20, min_samples_leaf=5, min_samples_split=10; total time=  15.2s\n",
      "[CV] END ccp_alpha=0.0, criterion=entropy, max_depth=20, min_samples_leaf=5, min_samples_split=10; total time=  14.8s\n",
      "[CV] END ccp_alpha=0.0, criterion=entropy, max_depth=20, min_samples_leaf=5, min_samples_split=10; total time=  16.0s\n",
      "[CV] END ccp_alpha=0.0, criterion=entropy, max_depth=30, min_samples_leaf=1, min_samples_split=2; total time=  16.7s\n",
      "[CV] END ccp_alpha=0.0, criterion=entropy, max_depth=30, min_samples_leaf=1, min_samples_split=2; total time=  17.2s\n",
      "[CV] END ccp_alpha=0.0, criterion=entropy, max_depth=30, min_samples_leaf=1, min_samples_split=2; total time=  18.3s\n",
      "[CV] END ccp_alpha=0.0, criterion=entropy, max_depth=30, min_samples_leaf=1, min_samples_split=2; total time=  17.1s\n",
      "[CV] END ccp_alpha=0.0, criterion=entropy, max_depth=30, min_samples_leaf=1, min_samples_split=2; total time=  15.9s\n",
      "[CV] END ccp_alpha=0.0, criterion=entropy, max_depth=30, min_samples_leaf=1, min_samples_split=10; total time=  15.9s\n",
      "[CV] END ccp_alpha=0.0, criterion=entropy, max_depth=30, min_samples_leaf=1, min_samples_split=10; total time=  16.6s\n",
      "[CV] END ccp_alpha=0.0, criterion=entropy, max_depth=30, min_samples_leaf=1, min_samples_split=10; total time=  16.0s\n",
      "[CV] END ccp_alpha=0.0, criterion=entropy, max_depth=30, min_samples_leaf=1, min_samples_split=10; total time=  15.1s\n",
      "[CV] END ccp_alpha=0.0, criterion=entropy, max_depth=30, min_samples_leaf=1, min_samples_split=10; total time=  15.5s\n",
      "[CV] END ccp_alpha=0.0, criterion=entropy, max_depth=30, min_samples_leaf=5, min_samples_split=2; total time=  15.0s\n",
      "[CV] END ccp_alpha=0.0, criterion=entropy, max_depth=30, min_samples_leaf=5, min_samples_split=2; total time=  15.9s\n"
     ]
    },
    {
     "ename": "KeyboardInterrupt",
     "evalue": "",
     "output_type": "error",
     "traceback": [
      "\u001B[31m---------------------------------------------------------------------------\u001B[39m",
      "\u001B[31mKeyboardInterrupt\u001B[39m                         Traceback (most recent call last)",
      "\u001B[36mCell\u001B[39m\u001B[36m \u001B[39m\u001B[32mIn[17]\u001B[39m\u001B[32m, line 25\u001B[39m\n\u001B[32m     15\u001B[39m grid_search_tree = GridSearchCV(\n\u001B[32m     16\u001B[39m     estimator=DecisionTreeClassifier(random_state=\u001B[32m42\u001B[39m),\n\u001B[32m     17\u001B[39m     param_grid=param_grid_tree,\n\u001B[32m   (...)\u001B[39m\u001B[32m     21\u001B[39m     n_jobs=-\u001B[32m1\u001B[39m\n\u001B[32m     22\u001B[39m )\n\u001B[32m     24\u001B[39m \u001B[38;5;66;03m# Fit the grid search on the resampled data\u001B[39;00m\n\u001B[32m---> \u001B[39m\u001B[32m25\u001B[39m \u001B[43mgrid_search_tree\u001B[49m\u001B[43m.\u001B[49m\u001B[43mfit\u001B[49m\u001B[43m(\u001B[49m\u001B[43mX_res_tree\u001B[49m\u001B[43m,\u001B[49m\u001B[43m \u001B[49m\u001B[43my_res_tree\u001B[49m\u001B[43m)\u001B[49m\n\u001B[32m     27\u001B[39m \u001B[38;5;66;03m# Print the best parameters and score\u001B[39;00m\n\u001B[32m     28\u001B[39m \u001B[38;5;28mprint\u001B[39m(\u001B[33m\"\u001B[39m\u001B[33m--- Decision Tree GridSearchCV Results ---\u001B[39m\u001B[33m\"\u001B[39m)\n",
      "\u001B[36mFile \u001B[39m\u001B[32m~/PycharmProjects/MLAssignment2/.venv/lib/python3.11/site-packages/sklearn/base.py:1365\u001B[39m, in \u001B[36m_fit_context.<locals>.decorator.<locals>.wrapper\u001B[39m\u001B[34m(estimator, *args, **kwargs)\u001B[39m\n\u001B[32m   1358\u001B[39m     estimator._validate_params()\n\u001B[32m   1360\u001B[39m \u001B[38;5;28;01mwith\u001B[39;00m config_context(\n\u001B[32m   1361\u001B[39m     skip_parameter_validation=(\n\u001B[32m   1362\u001B[39m         prefer_skip_nested_validation \u001B[38;5;129;01mor\u001B[39;00m global_skip_validation\n\u001B[32m   1363\u001B[39m     )\n\u001B[32m   1364\u001B[39m ):\n\u001B[32m-> \u001B[39m\u001B[32m1365\u001B[39m     \u001B[38;5;28;01mreturn\u001B[39;00m \u001B[43mfit_method\u001B[49m\u001B[43m(\u001B[49m\u001B[43mestimator\u001B[49m\u001B[43m,\u001B[49m\u001B[43m \u001B[49m\u001B[43m*\u001B[49m\u001B[43margs\u001B[49m\u001B[43m,\u001B[49m\u001B[43m \u001B[49m\u001B[43m*\u001B[49m\u001B[43m*\u001B[49m\u001B[43mkwargs\u001B[49m\u001B[43m)\u001B[49m\n",
      "\u001B[36mFile \u001B[39m\u001B[32m~/PycharmProjects/MLAssignment2/.venv/lib/python3.11/site-packages/sklearn/model_selection/_search.py:1051\u001B[39m, in \u001B[36mBaseSearchCV.fit\u001B[39m\u001B[34m(self, X, y, **params)\u001B[39m\n\u001B[32m   1045\u001B[39m     results = \u001B[38;5;28mself\u001B[39m._format_results(\n\u001B[32m   1046\u001B[39m         all_candidate_params, n_splits, all_out, all_more_results\n\u001B[32m   1047\u001B[39m     )\n\u001B[32m   1049\u001B[39m     \u001B[38;5;28;01mreturn\u001B[39;00m results\n\u001B[32m-> \u001B[39m\u001B[32m1051\u001B[39m \u001B[38;5;28;43mself\u001B[39;49m\u001B[43m.\u001B[49m\u001B[43m_run_search\u001B[49m\u001B[43m(\u001B[49m\u001B[43mevaluate_candidates\u001B[49m\u001B[43m)\u001B[49m\n\u001B[32m   1053\u001B[39m \u001B[38;5;66;03m# multimetric is determined here because in the case of a callable\u001B[39;00m\n\u001B[32m   1054\u001B[39m \u001B[38;5;66;03m# self.scoring the return type is only known after calling\u001B[39;00m\n\u001B[32m   1055\u001B[39m first_test_score = all_out[\u001B[32m0\u001B[39m][\u001B[33m\"\u001B[39m\u001B[33mtest_scores\u001B[39m\u001B[33m\"\u001B[39m]\n",
      "\u001B[36mFile \u001B[39m\u001B[32m~/PycharmProjects/MLAssignment2/.venv/lib/python3.11/site-packages/sklearn/model_selection/_search.py:1605\u001B[39m, in \u001B[36mGridSearchCV._run_search\u001B[39m\u001B[34m(self, evaluate_candidates)\u001B[39m\n\u001B[32m   1603\u001B[39m \u001B[38;5;28;01mdef\u001B[39;00m\u001B[38;5;250m \u001B[39m\u001B[34m_run_search\u001B[39m(\u001B[38;5;28mself\u001B[39m, evaluate_candidates):\n\u001B[32m   1604\u001B[39m \u001B[38;5;250m    \u001B[39m\u001B[33;03m\"\"\"Search all candidates in param_grid\"\"\"\u001B[39;00m\n\u001B[32m-> \u001B[39m\u001B[32m1605\u001B[39m     \u001B[43mevaluate_candidates\u001B[49m\u001B[43m(\u001B[49m\u001B[43mParameterGrid\u001B[49m\u001B[43m(\u001B[49m\u001B[38;5;28;43mself\u001B[39;49m\u001B[43m.\u001B[49m\u001B[43mparam_grid\u001B[49m\u001B[43m)\u001B[49m\u001B[43m)\u001B[49m\n",
      "\u001B[36mFile \u001B[39m\u001B[32m~/PycharmProjects/MLAssignment2/.venv/lib/python3.11/site-packages/sklearn/model_selection/_search.py:997\u001B[39m, in \u001B[36mBaseSearchCV.fit.<locals>.evaluate_candidates\u001B[39m\u001B[34m(candidate_params, cv, more_results)\u001B[39m\n\u001B[32m    989\u001B[39m \u001B[38;5;28;01mif\u001B[39;00m \u001B[38;5;28mself\u001B[39m.verbose > \u001B[32m0\u001B[39m:\n\u001B[32m    990\u001B[39m     \u001B[38;5;28mprint\u001B[39m(\n\u001B[32m    991\u001B[39m         \u001B[33m\"\u001B[39m\u001B[33mFitting \u001B[39m\u001B[38;5;132;01m{0}\u001B[39;00m\u001B[33m folds for each of \u001B[39m\u001B[38;5;132;01m{1}\u001B[39;00m\u001B[33m candidates,\u001B[39m\u001B[33m\"\u001B[39m\n\u001B[32m    992\u001B[39m         \u001B[33m\"\u001B[39m\u001B[33m totalling \u001B[39m\u001B[38;5;132;01m{2}\u001B[39;00m\u001B[33m fits\u001B[39m\u001B[33m\"\u001B[39m.format(\n\u001B[32m    993\u001B[39m             n_splits, n_candidates, n_candidates * n_splits\n\u001B[32m    994\u001B[39m         )\n\u001B[32m    995\u001B[39m     )\n\u001B[32m--> \u001B[39m\u001B[32m997\u001B[39m out = \u001B[43mparallel\u001B[49m\u001B[43m(\u001B[49m\n\u001B[32m    998\u001B[39m \u001B[43m    \u001B[49m\u001B[43mdelayed\u001B[49m\u001B[43m(\u001B[49m\u001B[43m_fit_and_score\u001B[49m\u001B[43m)\u001B[49m\u001B[43m(\u001B[49m\n\u001B[32m    999\u001B[39m \u001B[43m        \u001B[49m\u001B[43mclone\u001B[49m\u001B[43m(\u001B[49m\u001B[43mbase_estimator\u001B[49m\u001B[43m)\u001B[49m\u001B[43m,\u001B[49m\n\u001B[32m   1000\u001B[39m \u001B[43m        \u001B[49m\u001B[43mX\u001B[49m\u001B[43m,\u001B[49m\n\u001B[32m   1001\u001B[39m \u001B[43m        \u001B[49m\u001B[43my\u001B[49m\u001B[43m,\u001B[49m\n\u001B[32m   1002\u001B[39m \u001B[43m        \u001B[49m\u001B[43mtrain\u001B[49m\u001B[43m=\u001B[49m\u001B[43mtrain\u001B[49m\u001B[43m,\u001B[49m\n\u001B[32m   1003\u001B[39m \u001B[43m        \u001B[49m\u001B[43mtest\u001B[49m\u001B[43m=\u001B[49m\u001B[43mtest\u001B[49m\u001B[43m,\u001B[49m\n\u001B[32m   1004\u001B[39m \u001B[43m        \u001B[49m\u001B[43mparameters\u001B[49m\u001B[43m=\u001B[49m\u001B[43mparameters\u001B[49m\u001B[43m,\u001B[49m\n\u001B[32m   1005\u001B[39m \u001B[43m        \u001B[49m\u001B[43msplit_progress\u001B[49m\u001B[43m=\u001B[49m\u001B[43m(\u001B[49m\u001B[43msplit_idx\u001B[49m\u001B[43m,\u001B[49m\u001B[43m \u001B[49m\u001B[43mn_splits\u001B[49m\u001B[43m)\u001B[49m\u001B[43m,\u001B[49m\n\u001B[32m   1006\u001B[39m \u001B[43m        \u001B[49m\u001B[43mcandidate_progress\u001B[49m\u001B[43m=\u001B[49m\u001B[43m(\u001B[49m\u001B[43mcand_idx\u001B[49m\u001B[43m,\u001B[49m\u001B[43m \u001B[49m\u001B[43mn_candidates\u001B[49m\u001B[43m)\u001B[49m\u001B[43m,\u001B[49m\n\u001B[32m   1007\u001B[39m \u001B[43m        \u001B[49m\u001B[43m*\u001B[49m\u001B[43m*\u001B[49m\u001B[43mfit_and_score_kwargs\u001B[49m\u001B[43m,\u001B[49m\n\u001B[32m   1008\u001B[39m \u001B[43m    \u001B[49m\u001B[43m)\u001B[49m\n\u001B[32m   1009\u001B[39m \u001B[43m    \u001B[49m\u001B[38;5;28;43;01mfor\u001B[39;49;00m\u001B[43m \u001B[49m\u001B[43m(\u001B[49m\u001B[43mcand_idx\u001B[49m\u001B[43m,\u001B[49m\u001B[43m \u001B[49m\u001B[43mparameters\u001B[49m\u001B[43m)\u001B[49m\u001B[43m,\u001B[49m\u001B[43m \u001B[49m\u001B[43m(\u001B[49m\u001B[43msplit_idx\u001B[49m\u001B[43m,\u001B[49m\u001B[43m \u001B[49m\u001B[43m(\u001B[49m\u001B[43mtrain\u001B[49m\u001B[43m,\u001B[49m\u001B[43m \u001B[49m\u001B[43mtest\u001B[49m\u001B[43m)\u001B[49m\u001B[43m)\u001B[49m\u001B[43m \u001B[49m\u001B[38;5;129;43;01min\u001B[39;49;00m\u001B[43m \u001B[49m\u001B[43mproduct\u001B[49m\u001B[43m(\u001B[49m\n\u001B[32m   1010\u001B[39m \u001B[43m        \u001B[49m\u001B[38;5;28;43menumerate\u001B[39;49m\u001B[43m(\u001B[49m\u001B[43mcandidate_params\u001B[49m\u001B[43m)\u001B[49m\u001B[43m,\u001B[49m\n\u001B[32m   1011\u001B[39m \u001B[43m        \u001B[49m\u001B[38;5;28;43menumerate\u001B[39;49m\u001B[43m(\u001B[49m\u001B[43mcv\u001B[49m\u001B[43m.\u001B[49m\u001B[43msplit\u001B[49m\u001B[43m(\u001B[49m\u001B[43mX\u001B[49m\u001B[43m,\u001B[49m\u001B[43m \u001B[49m\u001B[43my\u001B[49m\u001B[43m,\u001B[49m\u001B[43m \u001B[49m\u001B[43m*\u001B[49m\u001B[43m*\u001B[49m\u001B[43mrouted_params\u001B[49m\u001B[43m.\u001B[49m\u001B[43msplitter\u001B[49m\u001B[43m.\u001B[49m\u001B[43msplit\u001B[49m\u001B[43m)\u001B[49m\u001B[43m)\u001B[49m\u001B[43m,\u001B[49m\n\u001B[32m   1012\u001B[39m \u001B[43m    \u001B[49m\u001B[43m)\u001B[49m\n\u001B[32m   1013\u001B[39m \u001B[43m\u001B[49m\u001B[43m)\u001B[49m\n\u001B[32m   1015\u001B[39m \u001B[38;5;28;01mif\u001B[39;00m \u001B[38;5;28mlen\u001B[39m(out) < \u001B[32m1\u001B[39m:\n\u001B[32m   1016\u001B[39m     \u001B[38;5;28;01mraise\u001B[39;00m \u001B[38;5;167;01mValueError\u001B[39;00m(\n\u001B[32m   1017\u001B[39m         \u001B[33m\"\u001B[39m\u001B[33mNo fits were performed. \u001B[39m\u001B[33m\"\u001B[39m\n\u001B[32m   1018\u001B[39m         \u001B[33m\"\u001B[39m\u001B[33mWas the CV iterator empty? \u001B[39m\u001B[33m\"\u001B[39m\n\u001B[32m   1019\u001B[39m         \u001B[33m\"\u001B[39m\u001B[33mWere there no candidates?\u001B[39m\u001B[33m\"\u001B[39m\n\u001B[32m   1020\u001B[39m     )\n",
      "\u001B[36mFile \u001B[39m\u001B[32m~/PycharmProjects/MLAssignment2/.venv/lib/python3.11/site-packages/sklearn/utils/parallel.py:82\u001B[39m, in \u001B[36mParallel.__call__\u001B[39m\u001B[34m(self, iterable)\u001B[39m\n\u001B[32m     73\u001B[39m warning_filters = warnings.filters\n\u001B[32m     74\u001B[39m iterable_with_config_and_warning_filters = (\n\u001B[32m     75\u001B[39m     (\n\u001B[32m     76\u001B[39m         _with_config_and_warning_filters(delayed_func, config, warning_filters),\n\u001B[32m   (...)\u001B[39m\u001B[32m     80\u001B[39m     \u001B[38;5;28;01mfor\u001B[39;00m delayed_func, args, kwargs \u001B[38;5;129;01min\u001B[39;00m iterable\n\u001B[32m     81\u001B[39m )\n\u001B[32m---> \u001B[39m\u001B[32m82\u001B[39m \u001B[38;5;28;01mreturn\u001B[39;00m \u001B[38;5;28;43msuper\u001B[39;49m\u001B[43m(\u001B[49m\u001B[43m)\u001B[49m\u001B[43m.\u001B[49m\u001B[34;43m__call__\u001B[39;49m\u001B[43m(\u001B[49m\u001B[43miterable_with_config_and_warning_filters\u001B[49m\u001B[43m)\u001B[49m\n",
      "\u001B[36mFile \u001B[39m\u001B[32m~/PycharmProjects/MLAssignment2/.venv/lib/python3.11/site-packages/joblib/parallel.py:2072\u001B[39m, in \u001B[36mParallel.__call__\u001B[39m\u001B[34m(self, iterable)\u001B[39m\n\u001B[32m   2066\u001B[39m \u001B[38;5;66;03m# The first item from the output is blank, but it makes the interpreter\u001B[39;00m\n\u001B[32m   2067\u001B[39m \u001B[38;5;66;03m# progress until it enters the Try/Except block of the generator and\u001B[39;00m\n\u001B[32m   2068\u001B[39m \u001B[38;5;66;03m# reaches the first `yield` statement. This starts the asynchronous\u001B[39;00m\n\u001B[32m   2069\u001B[39m \u001B[38;5;66;03m# dispatch of the tasks to the workers.\u001B[39;00m\n\u001B[32m   2070\u001B[39m \u001B[38;5;28mnext\u001B[39m(output)\n\u001B[32m-> \u001B[39m\u001B[32m2072\u001B[39m \u001B[38;5;28;01mreturn\u001B[39;00m output \u001B[38;5;28;01mif\u001B[39;00m \u001B[38;5;28mself\u001B[39m.return_generator \u001B[38;5;28;01melse\u001B[39;00m \u001B[38;5;28;43mlist\u001B[39;49m\u001B[43m(\u001B[49m\u001B[43moutput\u001B[49m\u001B[43m)\u001B[49m\n",
      "\u001B[36mFile \u001B[39m\u001B[32m~/PycharmProjects/MLAssignment2/.venv/lib/python3.11/site-packages/joblib/parallel.py:1682\u001B[39m, in \u001B[36mParallel._get_outputs\u001B[39m\u001B[34m(self, iterator, pre_dispatch)\u001B[39m\n\u001B[32m   1679\u001B[39m     \u001B[38;5;28;01myield\u001B[39;00m\n\u001B[32m   1681\u001B[39m     \u001B[38;5;28;01mwith\u001B[39;00m \u001B[38;5;28mself\u001B[39m._backend.retrieval_context():\n\u001B[32m-> \u001B[39m\u001B[32m1682\u001B[39m         \u001B[38;5;28;01myield from\u001B[39;00m \u001B[38;5;28mself\u001B[39m._retrieve()\n\u001B[32m   1684\u001B[39m \u001B[38;5;28;01mexcept\u001B[39;00m \u001B[38;5;167;01mGeneratorExit\u001B[39;00m:\n\u001B[32m   1685\u001B[39m     \u001B[38;5;66;03m# The generator has been garbage collected before being fully\u001B[39;00m\n\u001B[32m   1686\u001B[39m     \u001B[38;5;66;03m# consumed. This aborts the remaining tasks if possible and warn\u001B[39;00m\n\u001B[32m   1687\u001B[39m     \u001B[38;5;66;03m# the user if necessary.\u001B[39;00m\n\u001B[32m   1688\u001B[39m     \u001B[38;5;28mself\u001B[39m._exception = \u001B[38;5;28;01mTrue\u001B[39;00m\n",
      "\u001B[36mFile \u001B[39m\u001B[32m~/PycharmProjects/MLAssignment2/.venv/lib/python3.11/site-packages/joblib/parallel.py:1800\u001B[39m, in \u001B[36mParallel._retrieve\u001B[39m\u001B[34m(self)\u001B[39m\n\u001B[32m   1789\u001B[39m \u001B[38;5;28;01mif\u001B[39;00m \u001B[38;5;28mself\u001B[39m.return_ordered:\n\u001B[32m   1790\u001B[39m     \u001B[38;5;66;03m# Case ordered: wait for completion (or error) of the next job\u001B[39;00m\n\u001B[32m   1791\u001B[39m     \u001B[38;5;66;03m# that have been dispatched and not retrieved yet. If no job\u001B[39;00m\n\u001B[32m   (...)\u001B[39m\u001B[32m   1795\u001B[39m     \u001B[38;5;66;03m# control only have to be done on the amount of time the next\u001B[39;00m\n\u001B[32m   1796\u001B[39m     \u001B[38;5;66;03m# dispatched job is pending.\u001B[39;00m\n\u001B[32m   1797\u001B[39m     \u001B[38;5;28;01mif\u001B[39;00m (nb_jobs == \u001B[32m0\u001B[39m) \u001B[38;5;129;01mor\u001B[39;00m (\n\u001B[32m   1798\u001B[39m         \u001B[38;5;28mself\u001B[39m._jobs[\u001B[32m0\u001B[39m].get_status(timeout=\u001B[38;5;28mself\u001B[39m.timeout) == TASK_PENDING\n\u001B[32m   1799\u001B[39m     ):\n\u001B[32m-> \u001B[39m\u001B[32m1800\u001B[39m         time.sleep(\u001B[32m0.01\u001B[39m)\n\u001B[32m   1801\u001B[39m         \u001B[38;5;28;01mcontinue\u001B[39;00m\n\u001B[32m   1803\u001B[39m \u001B[38;5;28;01melif\u001B[39;00m nb_jobs == \u001B[32m0\u001B[39m:\n\u001B[32m   1804\u001B[39m     \u001B[38;5;66;03m# Case unordered: jobs are added to the list of jobs to\u001B[39;00m\n\u001B[32m   1805\u001B[39m     \u001B[38;5;66;03m# retrieve `self._jobs` only once completed or in error, which\u001B[39;00m\n\u001B[32m   (...)\u001B[39m\u001B[32m   1811\u001B[39m     \u001B[38;5;66;03m# timeouts before any other dispatched job has completed and\u001B[39;00m\n\u001B[32m   1812\u001B[39m     \u001B[38;5;66;03m# been added to `self._jobs` to be retrieved.\u001B[39;00m\n",
      "\u001B[31mKeyboardInterrupt\u001B[39m: "
     ]
    }
   ],
   "execution_count": 17
  }
 ],
 "metadata": {
  "kernelspec": {
   "display_name": "Python 3",
   "language": "python",
   "name": "python3"
  },
  "language_info": {
   "codemirror_mode": {
    "name": "ipython",
    "version": 2
   },
   "file_extension": ".py",
   "mimetype": "text/x-python",
   "name": "python",
   "nbconvert_exporter": "python",
   "pygments_lexer": "ipython2",
   "version": "2.7.6"
  }
 },
 "nbformat": 4,
 "nbformat_minor": 5
}
